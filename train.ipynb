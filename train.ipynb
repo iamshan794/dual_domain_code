{
 "cells": [
  {
   "cell_type": "code",
   "execution_count": 1,
   "id": "a6434e7f-c944-4e28-a3a1-83205e462c72",
   "metadata": {
    "tags": []
   },
   "outputs": [],
   "source": [
    "#NOTEBOOK TO TRAIN "
   ]
  },
  {
   "cell_type": "code",
   "execution_count": 127,
   "id": "585823a4-b72f-4ba2-ba12-f069fffde06e",
   "metadata": {
    "tags": []
   },
   "outputs": [
    {
     "name": "stdout",
     "output_type": "stream",
     "text": [
      "Defaulting to user installation because normal site-packages is not writeable\n",
      "Requirement already satisfied: matplotlib==3.4.2 in /home/mainuser/.local/lib/python3.8/site-packages (from -r requirements.txt (line 1)) (3.4.2)\n",
      "Requirement already satisfied: pyparsing>=2.2.1 in /home/mainuser/.local/lib/python3.8/site-packages (from matplotlib==3.4.2->-r requirements.txt (line 1)) (3.0.9)\n",
      "Requirement already satisfied: pillow>=6.2.0 in /home/mainuser/.local/lib/python3.8/site-packages (from matplotlib==3.4.2->-r requirements.txt (line 1)) (9.4.0)\n",
      "Requirement already satisfied: cycler>=0.10 in /home/mainuser/.local/lib/python3.8/site-packages (from matplotlib==3.4.2->-r requirements.txt (line 1)) (0.11.0)\n",
      "Requirement already satisfied: python-dateutil>=2.7 in /usr/local/lib/python3.8/dist-packages (from matplotlib==3.4.2->-r requirements.txt (line 1)) (2.8.2)\n",
      "Requirement already satisfied: kiwisolver>=1.0.1 in /home/mainuser/.local/lib/python3.8/site-packages (from matplotlib==3.4.2->-r requirements.txt (line 1)) (1.4.4)\n",
      "Requirement already satisfied: numpy>=1.16 in /home/mainuser/.local/lib/python3.8/site-packages (from matplotlib==3.4.2->-r requirements.txt (line 1)) (1.23.5)\n",
      "Requirement already satisfied: six>=1.5 in /usr/lib/python3/dist-packages (from python-dateutil>=2.7->matplotlib==3.4.2->-r requirements.txt (line 1)) (1.14.0)\n"
     ]
    }
   ],
   "source": [
    "!pip install -r requirements.txt"
   ]
  },
  {
   "cell_type": "code",
   "execution_count": 25,
   "id": "fb6867f5-fe65-4653-83eb-8760d6f02426",
   "metadata": {
    "tags": []
   },
   "outputs": [
    {
     "name": "stdout",
     "output_type": "stream",
     "text": [
      "2023-04-22 18:22:55.131759: I tensorflow/core/platform/cpu_feature_guard.cc:182] This TensorFlow binary is optimized to use available CPU instructions in performance-critical operations.\n",
      "To enable the following instructions: AVX2 FMA, in other operations, rebuild TensorFlow with the appropriate compiler flags.\n",
      "2023-04-22 18:22:55.774404: W tensorflow/compiler/tf2tensorrt/utils/py_utils.cc:38] TF-TRT Warning: Could not find TensorRT\n",
      "Start Loading Dataset from /home/mainuser/datadrive/predata/data/train/hr/numpy_train_hr128.npy, \n",
      "Mask from /home/mainuser/datadrive/predata/masks/Train_gaussian2d_0.2.npy\n",
      "/home/mainuser/datadrive/predata/data/train/hr/numpy_train_hr128.npy /home/mainuser/datadrive/predata/data/train/lr/numpy_train_lr128.npy\n",
      "Train data num : 8\n",
      "valid data num : 48 \n",
      "Sampled Ratio: 0.2499 \n",
      "Dataset load time : 1 \n",
      "\n",
      "GPU INFO 1\n",
      "Device 0: NVIDIA A100 80GB PCIe\n",
      "ID 0\n",
      "\tDevice ID: 0\n",
      "GPU 0: NVIDIA A100 80GB PCIe\n",
      "\tTotal memory: 79.17 GB\n",
      "\tMultiprocessors: 108\n",
      "\tTotal memory: 85.01 GB\n",
      "\tAllocated memory: 0.00 GB\n",
      "\tFree memory: 0.00 GB\n",
      "Output file locate at : Log/log\n",
      "Start Training, Number of model parameter: 17.43M\n",
      "learning rate: 5.000000e-04    stage: LR    \n",
      "100%|█████████████████████████████████████████████| 4/4 [00:03<00:00,  1.19it/s]\n",
      "100%|█████████████████████████████████████████████| 3/3 [00:01<00:00,  1.98it/s]\n",
      "Epoch:1  Time:12.4\n",
      "HRD Layer Loss 0--0.000000e+00(RM--0.000000e+00)  1--0.000000e+00(RM--0.000000e+00)  2--0.000000e+00(RM--0.000000e+00)  \n",
      "HRD Layer K-Loss 0--0.000000e+00(RM--0.000000e+00)  1--0.000000e+00(RM--0.000000e+00)  2--0.000000e+00(RM--0.000000e+00)  \n",
      "LRD Layer Loss 0--2.671103e+00  1--3.584495e+00  2--4.171365e+00  \n",
      "LRD Layer K-Loss 0--6.677758e-01  1--8.961237e-01  2--1.042841e+00  \n",
      "trn-UP-P:5.1353    trn-K-P:0.0000    trn-RM-P:0.0000\n",
      "valid-UP-P:0.0025    valid-K-P:0.0000    valid-RM-P:0.0000\n",
      "Best-P:0.0025      Best-S:0.0035\n",
      "learning rate: 4.998766e-04    stage: K    \n",
      "100%|█████████████████████████████████████████████| 4/4 [00:05<00:00,  1.38s/it]\n",
      "Epoch:2  Time:8.0\n",
      "HRD Layer Loss 0--0.000000e+00(RM--0.000000e+00)  1--0.000000e+00(RM--0.000000e+00)  2--0.000000e+00(RM--0.000000e+00)  \n",
      "HRD Layer K-Loss 0--0.000000e+00(RM--0.000000e+00)  1--0.000000e+00(RM--0.000000e+00)  2--0.000000e+00(RM--0.000000e+00)  \n",
      "LRD Layer Loss 0--1.515176e+00  1--1.109633e+00  2--1.153728e+00  \n",
      "LRD Layer K-Loss 0--3.787939e-01  1--2.774084e-01  2--2.884319e-01  \n",
      "trn-UP-P:7.8934    trn-K-P:6.9575    trn-RM-P:9.2141\n",
      "valid-UP-P:0.0025    valid-K-P:0.0000    valid-RM-P:0.0000\n",
      "Best-P:0.0025      Best-S:0.0035\n",
      "learning rate: 4.995067e-04    stage: RM    \n",
      "100%|█████████████████████████████████████████████| 4/4 [00:03<00:00,  1.18it/s]\n",
      "  0%|                                                     | 0/3 [00:01<?, ?it/s]\n",
      "Traceback (most recent call last):\n",
      "  File \"main.py\", line 276, in <module>\n",
      "    train(model=model,\n",
      "  File \"/home/mainuser/code/DualDomainKSpace/train.py\", line 291, in train\n",
      "    HR_unConv_results, HR_Conv_results = model(src=sampled_k,\n",
      "  File \"/home/mainuser/.local/lib/python3.8/site-packages/torch/nn/modules/module.py\", line 1501, in _call_impl\n",
      "    return forward_call(*args, **kwargs)\n",
      "  File \"/home/mainuser/.local/lib/python3.8/site-packages/torch/nn/parallel/data_parallel.py\", line 169, in forward\n",
      "    return self.module(*inputs[0], **kwargs[0])\n",
      "  File \"/home/mainuser/.local/lib/python3.8/site-packages/torch/nn/modules/module.py\", line 1501, in _call_impl\n",
      "    return forward_call(*args, **kwargs)\n",
      "  File \"/home/mainuser/code/DualDomainKSpace/Ktransformer.py\", line 145, in forward\n",
      "    HR_Trans_outputs, HR_Conv_outputs = self.decoderHR(lr_memory=LR_memory,\n",
      "  File \"/home/mainuser/.local/lib/python3.8/site-packages/torch/nn/modules/module.py\", line 1501, in _call_impl\n",
      "    return forward_call(*args, **kwargs)\n",
      "  File \"/home/mainuser/code/DualDomainKSpace/Ktransformer.py\", line 308, in forward\n",
      "    output_memory_k = self.k_layers[i](k_input, lr_memory)   # [b, query_len, d]\n",
      "  File \"/home/mainuser/.local/lib/python3.8/site-packages/torch/nn/modules/module.py\", line 1501, in _call_impl\n",
      "    return forward_call(*args, **kwargs)\n",
      "  File \"/home/mainuser/code/DualDomainKSpace/layers.py\", line 78, in forward\n",
      "    tgt = self.multihead_attn(tgt, memory, memory)[0]\n",
      "  File \"/home/mainuser/.local/lib/python3.8/site-packages/torch/nn/modules/module.py\", line 1501, in _call_impl\n",
      "    return forward_call(*args, **kwargs)\n",
      "  File \"/home/mainuser/code/DualDomainKSpace/multi_head_attn.py\", line 51, in forward\n",
      "    q, attn = self.attention(q, k, v, mask=mask)\n",
      "  File \"/home/mainuser/.local/lib/python3.8/site-packages/torch/nn/modules/module.py\", line 1501, in _call_impl\n",
      "    return forward_call(*args, **kwargs)\n",
      "  File \"/home/mainuser/code/DualDomainKSpace/multi_head_attn.py\", line 77, in forward\n",
      "    attn = self.dropout(F.softmax(attn, dim=-1))\n",
      "  File \"/home/mainuser/.local/lib/python3.8/site-packages/torch/nn/functional.py\", line 1843, in softmax\n",
      "    ret = input.softmax(dim)\n",
      "torch.cuda.OutOfMemoryError: CUDA out of memory. Tried to allocate 12.80 GiB (GPU 0; 79.17 GiB total capacity; 14.68 GiB already allocated; 9.99 GiB free; 16.66 GiB reserved in total by PyTorch) If reserved memory is >> allocated memory try setting max_split_size_mb to avoid fragmentation.  See documentation for Memory Management and PYTORCH_CUDA_ALLOC_CONF\n"
     ]
    }
   ],
   "source": [
    "!python3 main.py --output_dir 'log' \\\n",
    "--train_hr_data_path '/home/mainuser/datadrive/predata/data/train/hr/numpy_train_hr128.npy' \\\n",
    "--train_lr_data_path '/home/mainuser/datadrive/predata/data/train/lr/numpy_train_lr128.npy' \\\n",
    "--train_mask_path '/home/mainuser/datadrive/predata/masks/Train_gaussian2d_0.2.npy' \\\n",
    "--valid_hr_data_path '/home/mainuser/datadrive/predata/data/valid/hr/numpy_valid_hr128.npy' \\\n",
    "--valid_lr_data_path '/home/mainuser/datadrive/predata/data/valid/lr/numpy_valid_lr128.npy' \\\n",
    "--valid_mask_path '/home/mainuser/datadrive/predata/masks/Train_gaussian2d_0.2.npy' \\\n",
    "--performTL 'False' \\\n",
    "--get_params 'False' \\\n",
    "--gpu '1'"
   ]
  },
  {
   "cell_type": "code",
   "execution_count": 61,
   "id": "da6738ea-40a8-4990-86e2-3c8a21845ab5",
   "metadata": {},
   "outputs": [
    {
     "name": "stdout",
     "output_type": "stream",
     "text": [
      "updating: DualDomainKSpace/ (stored 0%)\n",
      "  adding: DualDomainKSpace/loss_function.py (deflated 53%)\n",
      "  adding: DualDomainKSpace/generate_mask.py (deflated 54%)\n",
      "  adding: DualDomainKSpace/train.py (deflated 80%)\n",
      "  adding: DualDomainKSpace/layers.py (deflated 77%)\n",
      "  adding: DualDomainKSpace/multi_head_attn.py (deflated 66%)\n",
      "  adding: DualDomainKSpace/kspace.zip (stored 0%)\n",
      "  adding: DualDomainKSpace/fftc.py (deflated 82%)\n",
      "  adding: DualDomainKSpace/Ktransformer.py (deflated 75%)\n",
      "  adding: DualDomainKSpace/og_params.csv (deflated 92%)\n",
      "  adding: DualDomainKSpace/utils.py (deflated 82%)\n",
      "  adding: DualDomainKSpace/visualisation.ipynb (deflated 69%)\n",
      "  adding: DualDomainKSpace/requirements.txt (stored 0%)\n",
      "  adding: DualDomainKSpace/README.md (deflated 49%)\n",
      "  adding: DualDomainKSpace/.git/ (stored 0%)\n",
      "  adding: DualDomainKSpace/.git/objects/ (stored 0%)\n",
      "  adding: DualDomainKSpace/.git/objects/36/ (stored 0%)\n",
      "  adding: DualDomainKSpace/.git/objects/36/3fcab7ed6e9634e198cf5555ceb88932c9a245 (stored 0%)\n",
      "  adding: DualDomainKSpace/.git/objects/41/ (stored 0%)\n",
      "  adding: DualDomainKSpace/.git/objects/41/b7be9ea196bc105ad75d6dbdfaf4e47c21ee7b (stored 0%)\n",
      "  adding: DualDomainKSpace/.git/objects/3d/ (stored 0%)\n",
      "  adding: DualDomainKSpace/.git/objects/3d/f3c39409909329a5d8cad5343829628226a987 (stored 0%)\n",
      "  adding: DualDomainKSpace/.git/objects/18/ (stored 0%)\n",
      "  adding: DualDomainKSpace/.git/objects/18/7150e55bc1271f1057d7a78fed7c86c34c700b (deflated 3%)\n",
      "  adding: DualDomainKSpace/.git/objects/ae/ (stored 0%)\n",
      "  adding: DualDomainKSpace/.git/objects/ae/8f8b91c9352cb29fb48fe1b7b36ee9a2965c3d (stored 0%)\n",
      "  adding: DualDomainKSpace/.git/objects/15/ (stored 0%)\n",
      "  adding: DualDomainKSpace/.git/objects/15/94b66870c191fc0868ed453deb8e6bc21bd859 (stored 0%)\n",
      "  adding: DualDomainKSpace/.git/objects/7d/ (stored 0%)\n",
      "  adding: DualDomainKSpace/.git/objects/7d/08afe15fd6ec71d9bb5f5ab21b32023fa0f09e (stored 0%)\n",
      "  adding: DualDomainKSpace/.git/objects/5e/ (stored 0%)\n",
      "  adding: DualDomainKSpace/.git/objects/5e/271b9e1720d75242675490ab4eef8f65ae61a8 (stored 0%)\n",
      "  adding: DualDomainKSpace/.git/objects/9d/ (stored 0%)\n",
      "  adding: DualDomainKSpace/.git/objects/9d/bb6359d5e15e12686a43f5f2027a028785e7e5 (stored 0%)\n",
      "  adding: DualDomainKSpace/.git/objects/48/ (stored 0%)\n",
      "  adding: DualDomainKSpace/.git/objects/48/44502930f497415ab0512a9c736b625c1dc7b5 (stored 0%)\n",
      "  adding: DualDomainKSpace/.git/objects/80/ (stored 0%)\n",
      "  adding: DualDomainKSpace/.git/objects/80/7c6c4c489a63bad6c559362bb4610b4fbecc3a (stored 0%)\n",
      "  adding: DualDomainKSpace/.git/objects/80/728d15c4d499878836b95af6248c626ac9abe8 (stored 0%)\n",
      "  adding: DualDomainKSpace/.git/objects/e2/ (stored 0%)\n",
      "  adding: DualDomainKSpace/.git/objects/e2/8a9572b168e4abc25cbbeb9c44ad457e1f19d5 (deflated 0%)\n",
      "  adding: DualDomainKSpace/.git/objects/46/ (stored 0%)\n",
      "  adding: DualDomainKSpace/.git/objects/46/7a3604ef6e8f9ff968cbd6c48d3c8d0855f04e (deflated 0%)\n",
      "  adding: DualDomainKSpace/.git/objects/a3/ (stored 0%)\n",
      "  adding: DualDomainKSpace/.git/objects/a3/cdd263a9ab7c50a748cd8d896be43502828101 (stored 0%)\n",
      "  adding: DualDomainKSpace/.git/objects/d5/ (stored 0%)\n",
      "  adding: DualDomainKSpace/.git/objects/d5/3766d681eba531df5277ce8808f7e2594d767d (stored 0%)\n",
      "  adding: DualDomainKSpace/.git/objects/pack/ (stored 0%)\n",
      "  adding: DualDomainKSpace/.git/objects/info/ (stored 0%)\n",
      "  adding: DualDomainKSpace/.git/objects/71/ (stored 0%)\n",
      "  adding: DualDomainKSpace/.git/objects/71/49cff833ec2161288d4e09396cca39561a22d4 (stored 0%)\n",
      "  adding: DualDomainKSpace/.git/objects/e4/ (stored 0%)\n",
      "  adding: DualDomainKSpace/.git/objects/e4/14527815ddd837dd713f3667f47f2da7be81b4 (stored 0%)\n",
      "  adding: DualDomainKSpace/.git/objects/9a/ (stored 0%)\n",
      "  adding: DualDomainKSpace/.git/objects/9a/0af2ccc0c51a6f51c08193dcf313f32e83f2fe (stored 0%)\n",
      "  adding: DualDomainKSpace/.git/objects/b5/ (stored 0%)\n",
      "  adding: DualDomainKSpace/.git/objects/b5/5b35be8bf309b5638d341b9dd66f0944acddde (stored 0%)\n",
      "  adding: DualDomainKSpace/.git/objects/5f/ (stored 0%)\n",
      "  adding: DualDomainKSpace/.git/objects/5f/a78a67c4be1799bbd4bdbfc19b4594ef597fab (stored 0%)\n",
      "  adding: DualDomainKSpace/.git/objects/01/ (stored 0%)\n",
      "  adding: DualDomainKSpace/.git/objects/01/fe5903cd6333faaa98b7b67d581bcbf4ff0d1d (stored 0%)\n",
      "  adding: DualDomainKSpace/.git/objects/ec/ (stored 0%)\n",
      "  adding: DualDomainKSpace/.git/objects/ec/7af0d6028121af56fad0db53bc4e4dc8cb1007 (deflated 3%)\n",
      "  adding: DualDomainKSpace/.git/objects/63/ (stored 0%)\n",
      "  adding: DualDomainKSpace/.git/objects/63/9fa6b20fbb3e01cdd5179d3e2e47dbf18113a8 (stored 0%)\n",
      "  adding: DualDomainKSpace/.git/objects/f3/ (stored 0%)\n",
      "  adding: DualDomainKSpace/.git/objects/f3/615c0e0f3c17b0dffba0c749057403bda96271 (stored 0%)\n",
      "  adding: DualDomainKSpace/.git/objects/bd/ (stored 0%)\n",
      "  adding: DualDomainKSpace/.git/objects/bd/86fd7d96ac87bcbdf661ece42f6929e8e75005 (stored 0%)\n",
      "  adding: DualDomainKSpace/.git/objects/1d/ (stored 0%)\n",
      "  adding: DualDomainKSpace/.git/objects/1d/e3082954bea16d657db99ca392a7d776ca41cc (stored 0%)\n",
      "  adding: DualDomainKSpace/.git/objects/53/ (stored 0%)\n",
      "  adding: DualDomainKSpace/.git/objects/53/b507f8f793ecd02e7977f0984e42ae5cb98ee9 (stored 0%)\n",
      "  adding: DualDomainKSpace/.git/objects/da/ (stored 0%)\n",
      "  adding: DualDomainKSpace/.git/objects/da/bf4de560b1eebec24500138a398f3b12593301 (stored 0%)\n",
      "  adding: DualDomainKSpace/.git/objects/da/d47b7135006f26da9af4436458f9d04e533460 (stored 0%)\n",
      "  adding: DualDomainKSpace/.git/objects/33/ (stored 0%)\n",
      "  adding: DualDomainKSpace/.git/objects/33/e28ce81de1d971d3bcd2576ac9478e8276e58c (stored 0%)\n",
      "  adding: DualDomainKSpace/.git/objects/64/ (stored 0%)\n",
      "  adding: DualDomainKSpace/.git/objects/64/178f748bde49ba63c2abbadea8af6a79f56e87 (stored 0%)\n",
      "  adding: DualDomainKSpace/.git/objects/c5/ (stored 0%)\n",
      "  adding: DualDomainKSpace/.git/objects/c5/2dd36b62facb9ce9bb9433d8dc87dd352a1573 (stored 0%)\n",
      "  adding: DualDomainKSpace/.git/objects/84/ (stored 0%)\n",
      "  adding: DualDomainKSpace/.git/objects/84/acc4fb53f920e8ef69244efc3a70882ac5687d (stored 0%)\n",
      "  adding: DualDomainKSpace/.git/objects/61/ (stored 0%)\n",
      "  adding: DualDomainKSpace/.git/objects/61/f1ac01cfac6fd3461e7394337663a34664c3b7 (stored 0%)\n",
      "  adding: DualDomainKSpace/.git/objects/87/ (stored 0%)\n",
      "  adding: DualDomainKSpace/.git/objects/87/1f0dd42ce44a508119e76264db364eb98cb9a0 (deflated 0%)\n",
      "  adding: DualDomainKSpace/.git/objects/a7/ (stored 0%)\n",
      "  adding: DualDomainKSpace/.git/objects/a7/6814d2e4a2939b2164e9664f45f2bc48bab354 (stored 0%)\n",
      "  adding: DualDomainKSpace/.git/objects/43/ (stored 0%)\n",
      "  adding: DualDomainKSpace/.git/objects/43/d027690c10524a1512baaf313cbe39c8d6ca4e (stored 0%)\n",
      "  adding: DualDomainKSpace/.git/objects/52/ (stored 0%)\n",
      "  adding: DualDomainKSpace/.git/objects/52/4822cedaf9cbf10259d23a57f9ab3e0d9bb192 (stored 0%)\n",
      "  adding: DualDomainKSpace/.git/objects/05/ (stored 0%)\n",
      "  adding: DualDomainKSpace/.git/objects/05/b857061419485d89ed3de295e43d9e4c262080 (stored 0%)\n",
      "  adding: DualDomainKSpace/.git/objects/05/ec058dc87346b40f4ae612875d1674521a5113 (stored 0%)\n",
      "  adding: DualDomainKSpace/.git/objects/de/ (stored 0%)\n",
      "  adding: DualDomainKSpace/.git/objects/de/207bd9024a7ad9b852a4bc49c1184e3313ace1 (stored 0%)\n",
      "  adding: DualDomainKSpace/.git/objects/3a/ (stored 0%)\n",
      "  adding: DualDomainKSpace/.git/objects/3a/bd37c33b580690626d3fd72e2b52bf86f1bcfc (stored 0%)\n",
      "  adding: DualDomainKSpace/.git/objects/be/ (stored 0%)\n",
      "  adding: DualDomainKSpace/.git/objects/be/f1874881e3dd602f29653dc14ae3202847e5ae (stored 0%)\n",
      "  adding: DualDomainKSpace/.git/objects/ce/ (stored 0%)\n",
      "  adding: DualDomainKSpace/.git/objects/ce/d6e371fbdf28abcf2bc0ea4d11c2e7581ab08b (stored 0%)\n",
      "  adding: DualDomainKSpace/.git/HEAD (stored 0%)\n",
      "  adding: DualDomainKSpace/.git/branches/ (stored 0%)\n",
      "  adding: DualDomainKSpace/.git/info/ (stored 0%)\n",
      "  adding: DualDomainKSpace/.git/info/exclude (deflated 28%)\n",
      "  adding: DualDomainKSpace/.git/refs/ (stored 0%)\n",
      "  adding: DualDomainKSpace/.git/refs/heads/ (stored 0%)\n",
      "  adding: DualDomainKSpace/.git/refs/tags/ (stored 0%)\n",
      "  adding: DualDomainKSpace/.git/description (deflated 14%)\n",
      "  adding: DualDomainKSpace/.git/hooks/ (stored 0%)\n",
      "  adding: DualDomainKSpace/.git/hooks/fsmonitor-watchman.sample (deflated 52%)\n",
      "  adding: DualDomainKSpace/.git/hooks/post-update.sample (deflated 27%)\n",
      "  adding: DualDomainKSpace/.git/hooks/pre-receive.sample (deflated 40%)\n",
      "  adding: DualDomainKSpace/.git/hooks/applypatch-msg.sample (deflated 42%)\n",
      "  adding: DualDomainKSpace/.git/hooks/update.sample (deflated 68%)\n",
      "  adding: DualDomainKSpace/.git/hooks/pre-commit.sample (deflated 45%)\n",
      "  adding: DualDomainKSpace/.git/hooks/pre-rebase.sample (deflated 59%)\n",
      "  adding: DualDomainKSpace/.git/hooks/prepare-commit-msg.sample (deflated 50%)\n",
      "  adding: DualDomainKSpace/.git/hooks/pre-merge-commit.sample (deflated 39%)\n",
      "  adding: DualDomainKSpace/.git/hooks/pre-applypatch.sample (deflated 38%)\n",
      "  adding: DualDomainKSpace/.git/hooks/commit-msg.sample (deflated 44%)\n",
      "  adding: DualDomainKSpace/.git/hooks/pre-push.sample (deflated 50%)\n",
      "  adding: DualDomainKSpace/.git/config (deflated 26%)\n",
      "  adding: DualDomainKSpace/.git/index (deflated 58%)\n",
      "  adding: DualDomainKSpace/test.py (deflated 73%)\n",
      "  adding: DualDomainKSpace/__pycache__/ (stored 0%)\n",
      "  adding: DualDomainKSpace/__pycache__/fftc.cpython-38.pyc (deflated 64%)\n",
      "  adding: DualDomainKSpace/__pycache__/utils.cpython-38.pyc (deflated 67%)\n",
      "  adding: DualDomainKSpace/__pycache__/dataset.cpython-38.pyc (deflated 66%)\n",
      "  adding: DualDomainKSpace/__pycache__/loss_function.cpython-38.pyc (deflated 39%)\n",
      "  adding: DualDomainKSpace/__pycache__/multi_head_attn.cpython-38.pyc (deflated 46%)\n",
      "  adding: DualDomainKSpace/__pycache__/train.cpython-38.pyc (deflated 57%)\n",
      "  adding: DualDomainKSpace/__pycache__/Ktransformer.cpython-38.pyc (deflated 53%)\n",
      "  adding: DualDomainKSpace/__pycache__/layers.cpython-38.pyc (deflated 57%)\n",
      "  adding: DualDomainKSpace/perform_tl.py (deflated 68%)\n",
      "  adding: DualDomainKSpace/data_preprocess.py (deflated 64%)\n",
      "  adding: DualDomainKSpace/train.ipynb (deflated 72%)\n",
      "  adding: DualDomainKSpace/params.csv (deflated 85%)\n",
      "  adding: DualDomainKSpace/main.py (deflated 71%)\n",
      "  adding: DualDomainKSpace/Untitled.ipynb (deflated 82%)\n",
      "  adding: DualDomainKSpace/sampling.py (deflated 79%)\n",
      "  adding: DualDomainKSpace/dataset.py (deflated 88%)\n",
      "  adding: DualDomainKSpace/.ipynb_checkpoints/ (stored 0%)\n",
      "  adding: DualDomainKSpace/.ipynb_checkpoints/dataset-checkpoint.py (deflated 88%)\n",
      "  adding: DualDomainKSpace/.ipynb_checkpoints/perform_tl-checkpoint.py (deflated 68%)\n",
      "  adding: DualDomainKSpace/.ipynb_checkpoints/train-checkpoint.py (deflated 80%)\n",
      "  adding: DualDomainKSpace/.ipynb_checkpoints/sampling-checkpoint.py (deflated 79%)\n",
      "  adding: DualDomainKSpace/.ipynb_checkpoints/layers-checkpoint.py (deflated 77%)\n",
      "  adding: DualDomainKSpace/.ipynb_checkpoints/utils-checkpoint.py (deflated 82%)\n",
      "  adding: DualDomainKSpace/.ipynb_checkpoints/requirements-checkpoint.txt (stored 0%)\n",
      "  adding: DualDomainKSpace/.ipynb_checkpoints/Untitled-checkpoint.ipynb (deflated 76%)\n",
      "  adding: DualDomainKSpace/.ipynb_checkpoints/test-checkpoint.py (deflated 73%)\n",
      "  adding: DualDomainKSpace/.ipynb_checkpoints/loss_function-checkpoint.py (deflated 53%)\n",
      "  adding: DualDomainKSpace/.ipynb_checkpoints/train-checkpoint.ipynb (deflated 88%)\n",
      "  adding: DualDomainKSpace/.ipynb_checkpoints/data_preprocess-checkpoint.py (deflated 64%)\n",
      "  adding: DualDomainKSpace/.ipynb_checkpoints/multi_head_attn-checkpoint.py (deflated 66%)\n",
      "  adding: DualDomainKSpace/.ipynb_checkpoints/README-checkpoint.md (deflated 49%)\n",
      "  adding: DualDomainKSpace/.ipynb_checkpoints/main-checkpoint.py (deflated 71%)\n",
      "  adding: DualDomainKSpace/.ipynb_checkpoints/visualisation-checkpoint.ipynb (deflated 21%)\n",
      "  adding: DualDomainKSpace/.ipynb_checkpoints/og_params-checkpoint.csv (deflated 92%)\n",
      "  adding: DualDomainKSpace/.ipynb_checkpoints/params-checkpoint.csv (deflated 85%)\n",
      "  adding: DualDomainKSpace/.ipynb_checkpoints/fftc-checkpoint.py (deflated 82%)\n",
      "  adding: DualDomainKSpace/.ipynb_checkpoints/Ktransformer-checkpoint.py (deflated 75%)\n",
      "  adding: DualDomainKSpace/.ipynb_checkpoints/generate_mask-checkpoint.py (deflated 54%)\n"
     ]
    }
   ],
   "source": [
    "!zip -r ddks.zip DualDomainKSpace"
   ]
  },
  {
   "cell_type": "code",
   "execution_count": 1,
   "id": "7d3c106d-5275-488d-ac9c-689f9e0b2135",
   "metadata": {},
   "outputs": [
    {
     "name": "stdout",
     "output_type": "stream",
     "text": [
      "Sat Apr 22 13:03:50 2023       \n",
      "+-----------------------------------------------------------------------------+\n",
      "| NVIDIA-SMI 510.85.02    Driver Version: 510.85.02    CUDA Version: 11.6     |\n",
      "|-------------------------------+----------------------+----------------------+\n",
      "| GPU  Name        Persistence-M| Bus-Id        Disp.A | Volatile Uncorr. ECC |\n",
      "| Fan  Temp  Perf  Pwr:Usage/Cap|         Memory-Usage | GPU-Util  Compute M. |\n",
      "|                               |                      |               MIG M. |\n",
      "|===============================+======================+======================|\n",
      "|   0  NVIDIA A100 80G...  Off  | 00000001:00:00.0 Off |                    0 |\n",
      "| N/A   38C    P0    77W / 300W |  81061MiB / 81920MiB |      0%      Default |\n",
      "|                               |                      |             Disabled |\n",
      "+-------------------------------+----------------------+----------------------+\n",
      "|   1  NVIDIA A100 80G...  Off  | 00000002:00:00.0 Off |                    0 |\n",
      "| N/A   40C    P0    72W / 300W |  52038MiB / 81920MiB |      0%      Default |\n",
      "|                               |                      |             Disabled |\n",
      "+-------------------------------+----------------------+----------------------+\n",
      "                                                                               \n",
      "+-----------------------------------------------------------------------------+\n",
      "| Processes:                                                                  |\n",
      "|  GPU   GI   CI        PID   Type   Process name                  GPU Memory |\n",
      "|        ID   ID                                                   Usage      |\n",
      "|=============================================================================|\n",
      "+-----------------------------------------------------------------------------+\n"
     ]
    }
   ],
   "source": [
    "!nvidia-smi\n"
   ]
  },
  {
   "cell_type": "code",
   "execution_count": 164,
   "id": "8eda6021-ba34-443b-ae30-f10bc52644e7",
   "metadata": {},
   "outputs": [],
   "source": [
    "import torch \n",
    "torch.__version__\n",
    "import numpy as np\n",
    "import matplotlib.pyplot as plt"
   ]
  },
  {
   "cell_type": "code",
   "execution_count": 165,
   "id": "bf85026a-9164-4cb2-898c-76d213bbbe48",
   "metadata": {},
   "outputs": [],
   "source": [
    "o1=np.load('new1.npy')\n",
    "o2=np.load('new2.npy')\n",
    "o1=o1[:,:,0]+1j*o1[:,:,1]\n",
    "o2=o2[:,:,0]+1j*o2[:,:,1]\n",
    "o11=np.fft.ifftshift(np.fft.ifft2(o1))"
   ]
  },
  {
   "cell_type": "code",
   "execution_count": 138,
   "id": "41244846-fd60-424b-8568-16f26b0be052",
   "metadata": {
    "tags": []
   },
   "outputs": [],
   "source": [
    "o1=np.abs(o1)"
   ]
  },
  {
   "cell_type": "code",
   "execution_count": 139,
   "id": "ce99c936-6a53-4709-a13e-8f18337927c7",
   "metadata": {
    "tags": []
   },
   "outputs": [
    {
     "data": {
      "text/plain": [
       "(64, 64)"
      ]
     },
     "execution_count": 139,
     "metadata": {},
     "output_type": "execute_result"
    }
   ],
   "source": [
    "o1.shape"
   ]
  },
  {
   "cell_type": "code",
   "execution_count": 167,
   "id": "4ab7f5e8-3635-4ff9-ae7b-b3fba0128100",
   "metadata": {
    "tags": []
   },
   "outputs": [
    {
     "data": {
      "text/plain": [
       "<matplotlib.image.AxesImage at 0x7fab9756fa30>"
      ]
     },
     "execution_count": 167,
     "metadata": {},
     "output_type": "execute_result"
    },
    {
     "data": {
      "image/png": "[encoded data removed]",
      "text/plain": [
       "<Figure size 640x480 with 1 Axes>"
      ]
     },
     "metadata": {},
     "output_type": "display_data"
    }
   ],
   "source": [
    "plt.imshow(np.abs(o2),cmap='gray')"
   ]
  },
  {
   "cell_type": "code",
   "execution_count": 195,
   "id": "325eb93f-8d9a-454f-a37c-8c372f05303f",
   "metadata": {},
   "outputs": [],
   "source": [
    "import torch \n",
    "\n",
    "g=torch.tensor([3,2,4],dtype=torch.complex32)"
   ]
  },
  {
   "cell_type": "code",
   "execution_count": 196,
   "id": "df7f92e8-2375-4bde-9507-8731eb3bee9a",
   "metadata": {
    "tags": []
   },
   "outputs": [],
   "source": [
    "x=g.real+1j*g.imag"
   ]
  },
  {
   "cell_type": "code",
   "execution_count": 204,
   "id": "a689da0e-45c4-42bd-8a39-105dd599683a",
   "metadata": {
    "tags": []
   },
   "outputs": [],
   "source": [
    "x=torch.cat((g.real.unsqueeze(0),g.imag.unsqueeze(0)),dim=0)"
   ]
  },
  {
   "cell_type": "code",
   "execution_count": 206,
   "id": "2e0a4c6b-ba9d-4a06-b87e-86568f1b87f2",
   "metadata": {
    "tags": []
   },
   "outputs": [
    {
     "data": {
      "text/plain": [
       "torch.Size([2, 3])"
      ]
     },
     "execution_count": 206,
     "metadata": {},
     "output_type": "execute_result"
    }
   ],
   "source": [
    "x.shape"
   ]
  },
  {
   "cell_type": "code",
   "execution_count": 233,
   "id": "01965ea0-acb0-4204-b448-4af01f5221a6",
   "metadata": {},
   "outputs": [
    {
     "name": "stdout",
     "output_type": "stream",
     "text": [
      "Ktransformer.py     generate_mask.py\tnew2.npy\t  train.py\n",
      "Log\t\t    igt.npy\t\tog_params.csv\t  ulri.npy\n",
      "README.md\t    kspace.zip\t\tparams.csv\t  ulrk.npy\n",
      "Untitled.ipynb\t    layers.py\t\tperform_tl.py\t  utils.py\n",
      "__pycache__\t    loss_function.py\trequirements.txt  visualisation.ipynb\n",
      "data_preprocess.py  main.py\t\tsampling.py\n",
      "dataset.py\t    multi_head_attn.py\ttest.py\n",
      "fftc.py\t\t    new1.npy\t\ttrain.ipynb\n"
     ]
    }
   ],
   "source": []
  },
  {
   "cell_type": "code",
   "execution_count": null,
   "id": "6c7dfef5-d501-40cc-b36c-89bba5b93613",
   "metadata": {},
   "outputs": [],
   "source": []
  }
 ],
 "metadata": {
  "kernelspec": {
   "display_name": "Python 3 (ipykernel)",
   "language": "python",
   "name": "python3"
  },
  "language_info": {
   "codemirror_mode": {
    "name": "ipython",
    "version": 3
   },
   "file_extension": ".py",
   "mimetype": "text/x-python",
   "name": "python",
   "nbconvert_exporter": "python",
   "pygments_lexer": "ipython3",
   "version": "3.8.10"
  }
 },
 "nbformat": 4,
 "nbformat_minor": 5
}
