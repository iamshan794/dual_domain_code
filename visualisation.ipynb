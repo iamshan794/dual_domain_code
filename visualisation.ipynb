{
 "cells": [
  {
   "cell_type": "code",
   "execution_count": 4,
   "id": "1db56d1b-e20c-4e0a-80c0-365d83a959fa",
   "metadata": {
    "tags": []
   },
   "outputs": [],
   "source": [
    "from torch.utils.tensorboard import SummaryWriter"
   ]
  },
  {
   "cell_type": "code",
   "execution_count": 7,
   "id": "6034a3de-8b06-429c-9b55-87adf6e5723d",
   "metadata": {
    "tags": []
   },
   "outputs": [
    {
     "name": "stdout",
     "output_type": "stream",
     "text": [
      "Found existing installation: jax 0.4.8\n",
      "Uninstalling jax-0.4.8:\n",
      "  Successfully uninstalled jax-0.4.8\n",
      "Found existing installation: jaxlib 0.3.10+cuda11.cudnn805\n",
      "Uninstalling jaxlib-0.3.10+cuda11.cudnn805:\n",
      "  Successfully uninstalled jaxlib-0.3.10+cuda11.cudnn805\n",
      "Defaulting to user installation because normal site-packages is not writeable\n",
      "Looking in links: https://storage.googleapis.com/jax-releases/jax_cuda_releases.html\n",
      "Collecting jax[cuda11_cudnn805]==0.4.7\n",
      "  Downloading jax-0.4.7.tar.gz (1.2 MB)\n",
      "\u001b[2K     \u001b[90m━━━━━━━━━━━━━━━━━━━━━━━━━━━━━━━━━━━━━━━━\u001b[0m \u001b[32m1.2/1.2 MB\u001b[0m \u001b[31m28.7 MB/s\u001b[0m eta \u001b[36m0:00:00\u001b[0m00:01\u001b[0m\n",
      "\u001b[?25h  Preparing metadata (setup.py) ... \u001b[?25ldone\n",
      "\u001b[33mWARNING: jax 0.4.7 does not provide the extra 'cuda11_cudnn805'\u001b[0m\u001b[33m\n",
      "\u001b[0m\u001b[?25hRequirement already satisfied: ml_dtypes>=0.0.3 in /home/mainuser/.local/lib/python3.8/site-packages (from jax[cuda11_cudnn805]==0.4.7) (0.0.4)\n",
      "Requirement already satisfied: numpy>=1.21 in /home/mainuser/.local/lib/python3.8/site-packages (from jax[cuda11_cudnn805]==0.4.7) (1.23.5)\n",
      "Requirement already satisfied: opt_einsum in /home/mainuser/.local/lib/python3.8/site-packages (from jax[cuda11_cudnn805]==0.4.7) (3.3.0)\n",
      "Requirement already satisfied: scipy>=1.7 in /home/mainuser/.local/lib/python3.8/site-packages (from jax[cuda11_cudnn805]==0.4.7) (1.9.1)\n",
      "Building wheels for collected packages: jax\n",
      "  Building wheel for jax (setup.py) ... \u001b[?25ldone\n",
      "\u001b[?25h  Created wheel for jax: filename=jax-0.4.7-py3-none-any.whl size=1438271 sha256=c24e39bb3b27c05ab29fdd7a46613f6752c0cf8ed33d6ba456a1aad74867de88\n",
      "  Stored in directory: /home/mainuser/.cache/pip/wheels/cd/de/72/6c0e59e93fcc7702ab33cc2a49fa726b5684222c8ed7171183\n",
      "Successfully built jax\n",
      "Installing collected packages: jax\n",
      "Successfully installed jax-0.4.7\n"
     ]
    }
   ],
   "source": [
    "!pip uninstall jax jaxlib -y\n",
    "!pip install \"jax[cuda11_cudnn805]==0.4.7\" -f https://storage.googleapis.com/jax-releases/jax_cuda_releases.html"
   ]
  },
  {
   "cell_type": "code",
   "execution_count": 1,
   "id": "75aec29e-eeba-4062-b40c-095171e24f82",
   "metadata": {
    "tags": []
   },
   "outputs": [],
   "source": [
    "%load_ext tensorboard"
   ]
  },
  {
   "cell_type": "code",
   "execution_count": 17,
   "id": "d3de58b3-c7d4-4c20-864a-5ce91cbd3603",
   "metadata": {
    "tags": []
   },
   "outputs": [
    {
     "name": "stdout",
     "output_type": "stream",
     "text": [
      "2023-04-05 21:56:48.185599: I tensorflow/core/platform/cpu_feature_guard.cc:182] This TensorFlow binary is optimized to use available CPU instructions in performance-critical operations.\n",
      "To enable the following instructions: AVX2 FMA, in other operations, rebuild TensorFlow with the appropriate compiler flags.\n",
      "2023-04-05 21:56:48.782570: W tensorflow/compiler/tf2tensorrt/utils/py_utils.cc:38] TF-TRT Warning: Could not find TensorRT\n",
      "/home/mainuser/.local/lib/python3.8/site-packages/tensorboard_data_server/bin/server: /usr/lib/x86_64-linux-gnu/libc.so.6: version `GLIBC_2.33' not found (required by /home/mainuser/.local/lib/python3.8/site-packages/tensorboard_data_server/bin/server)\n",
      "/home/mainuser/.local/lib/python3.8/site-packages/tensorboard_data_server/bin/server: /usr/lib/x86_64-linux-gnu/libc.so.6: version `GLIBC_2.34' not found (required by /home/mainuser/.local/lib/python3.8/site-packages/tensorboard_data_server/bin/server)\n",
      "/home/mainuser/.local/lib/python3.8/site-packages/tensorboard_data_server/bin/server: /usr/lib/x86_64-linux-gnu/libc.so.6: version `GLIBC_2.32' not found (required by /home/mainuser/.local/lib/python3.8/site-packages/tensorboard_data_server/bin/server)\n",
      "TensorBoard 2.12.0 at http://localhost:8080/ (Press CTRL+C to quit)\n",
      "^C\n"
     ]
    }
   ],
   "source": [
    "!python3 -m tensorboard.main --logdir home/mainusercode/KSpaceTransformer/LogHistory/UniformSampling/log_15-81 --host localhost --port 8080"
   ]
  },
  {
   "cell_type": "code",
   "execution_count": 3,
   "id": "a9293030-c04e-4ebe-aa5e-916040cf2304",
   "metadata": {
    "tags": []
   },
   "outputs": [],
   "source": [
    "import os\n",
    "os.environ['TENSORBOARD_BINARY'] = '/home/mainuser/.local/lib/python3.8/site-packages/tensorboard'"
   ]
  },
  {
   "cell_type": "code",
   "execution_count": 11,
   "id": "7098ba0f-e2a8-4f95-98a2-582eef7313a4",
   "metadata": {
    "tags": []
   },
   "outputs": [
    {
     "name": "stdout",
     "output_type": "stream",
     "text": [
      "Defaulting to user installation because normal site-packages is not writeable\n",
      "Collecting protobuf==3.20.0\n",
      "  Downloading protobuf-3.20.0-cp38-cp38-manylinux_2_5_x86_64.manylinux1_x86_64.whl (1.0 MB)\n",
      "\u001b[2K     \u001b[90m━━━━━━━━━━━━━━━━━━━━━━━━━━━━━━━━━━━━━━━━\u001b[0m \u001b[32m1.0/1.0 MB\u001b[0m \u001b[31m33.7 MB/s\u001b[0m eta \u001b[36m0:00:00\u001b[0m\n",
      "\u001b[?25hInstalling collected packages: protobuf\n",
      "  Attempting uninstall: protobuf\n",
      "    Found existing installation: protobuf 4.22.1\n",
      "    Uninstalling protobuf-4.22.1:\n",
      "      Successfully uninstalled protobuf-4.22.1\n",
      "\u001b[31mERROR: pip's dependency resolver does not currently take into account all the packages that are installed. This behaviour is the source of the following dependency conflicts.\n",
      "tensorflow 2.12.0 requires protobuf!=4.21.0,!=4.21.1,!=4.21.2,!=4.21.3,!=4.21.4,!=4.21.5,<5.0.0dev,>=3.20.3, but you have protobuf 3.20.0 which is incompatible.\u001b[0m\u001b[31m\n",
      "\u001b[0mSuccessfully installed protobuf-3.20.0\n"
     ]
    }
   ],
   "source": [
    "!pip install --upgrade protobuf==3.20.0"
   ]
  },
  {
   "cell_type": "code",
   "execution_count": null,
   "id": "d5468ad2-78a0-42cc-b820-8f48c29ee2a3",
   "metadata": {},
   "outputs": [],
   "source": []
  }
 ],
 "metadata": {
  "kernelspec": {
   "display_name": "Python 3 (ipykernel)",
   "language": "python",
   "name": "python3"
  },
  "language_info": {
   "codemirror_mode": {
    "name": "ipython",
    "version": 3
   },
   "file_extension": ".py",
   "mimetype": "text/x-python",
   "name": "python",
   "nbconvert_exporter": "python",
   "pygments_lexer": "ipython3",
   "version": "3.8.10"
  }
 },
 "nbformat": 4,
 "nbformat_minor": 5
}
